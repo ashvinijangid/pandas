{
 "cells": [
  {
   "cell_type": "markdown",
   "metadata": {
    "ExecuteTime": {
     "end_time": "2020-05-25T03:55:16.955451Z",
     "start_time": "2020-05-25T03:55:16.953224Z"
    }
   },
   "source": [
    "```\n",
    "Linux\n",
    "     sudo apt install libmysqlclient-dev\n",
    "\n",
    "windows \n",
    "    install mysqlclient\n",
    "```\n",
    "\n",
    "```python\n",
    "pip install mysqlclient\n",
    "pip install sqlalchemy\n",
    "pip install pandas\n",
    "```"
   ]
  },
  {
   "cell_type": "markdown",
   "metadata": {},
   "source": [
    "### Create Engine For Connection"
   ]
  },
  {
   "cell_type": "code",
   "execution_count": 2,
   "metadata": {
    "ExecuteTime": {
     "end_time": "2020-05-25T03:55:17.040553Z",
     "start_time": "2020-05-25T03:55:16.957946Z"
    }
   },
   "outputs": [],
   "source": [
    "from sqlalchemy import create_engine"
   ]
  },
  {
   "cell_type": "markdown",
   "metadata": {},
   "source": [
    "### Set Your Config"
   ]
  },
  {
   "cell_type": "markdown",
   "metadata": {},
   "source": [
    "## DB name"
   ]
  },
  {
   "cell_type": "code",
   "execution_count": 3,
   "metadata": {
    "ExecuteTime": {
     "end_time": "2020-05-25T03:55:17.045218Z",
     "start_time": "2020-05-25T03:55:17.042460Z"
    }
   },
   "outputs": [],
   "source": [
    "db_name = \"demo\""
   ]
  },
  {
   "cell_type": "code",
   "execution_count": 4,
   "metadata": {
    "ExecuteTime": {
     "end_time": "2020-05-25T03:55:17.053450Z",
     "start_time": "2020-05-25T03:55:17.046802Z"
    }
   },
   "outputs": [],
   "source": [
    "username = \"root\"\n",
    "password = \"ash\"\n",
    "address = \"0.0.0.0\""
   ]
  },
  {
   "cell_type": "markdown",
   "metadata": {},
   "source": [
    "### No Rocket Science It just fixed pattern of url"
   ]
  },
  {
   "cell_type": "code",
   "execution_count": 5,
   "metadata": {
    "ExecuteTime": {
     "end_time": "2020-05-25T03:55:17.072391Z",
     "start_time": "2020-05-25T03:55:17.055026Z"
    }
   },
   "outputs": [],
   "source": [
    "engine = create_engine(f\"mysql+mysqldb://{username}:{password}@{address}/{db_name}\")"
   ]
  },
  {
   "cell_type": "code",
   "execution_count": 6,
   "metadata": {
    "ExecuteTime": {
     "end_time": "2020-05-25T03:55:17.311798Z",
     "start_time": "2020-05-25T03:55:17.073809Z"
    }
   },
   "outputs": [],
   "source": [
    "import pandas as pd\n",
    "from pandas.io import sql"
   ]
  },
  {
   "cell_type": "markdown",
   "metadata": {},
   "source": [
    "### Now Connect and Begin ( create Cursor )"
   ]
  },
  {
   "cell_type": "code",
   "execution_count": 7,
   "metadata": {
    "ExecuteTime": {
     "end_time": "2020-05-25T03:55:17.343777Z",
     "start_time": "2020-05-25T03:55:17.313652Z"
    }
   },
   "outputs": [
    {
     "data": {
      "text/plain": [
       "<sqlalchemy.engine.base.RootTransaction at 0x7f99fb137b10>"
      ]
     },
     "execution_count": 7,
     "metadata": {},
     "output_type": "execute_result"
    }
   ],
   "source": [
    "conn = engine.connect()\n",
    "conn.begin()"
   ]
  },
  {
   "cell_type": "markdown",
   "metadata": {},
   "source": [
    "## Set Table Name"
   ]
  },
  {
   "cell_type": "code",
   "execution_count": 8,
   "metadata": {
    "ExecuteTime": {
     "end_time": "2020-05-25T03:55:17.348653Z",
     "start_time": "2020-05-25T03:55:17.345733Z"
    }
   },
   "outputs": [],
   "source": [
    "table_name = \"employee\""
   ]
  },
  {
   "cell_type": "markdown",
   "metadata": {},
   "source": [
    "### Now Drop Table  If Already There"
   ]
  },
  {
   "cell_type": "code",
   "execution_count": 9,
   "metadata": {
    "ExecuteTime": {
     "end_time": "2020-05-25T03:55:17.377135Z",
     "start_time": "2020-05-25T03:55:17.350715Z"
    }
   },
   "outputs": [
    {
     "data": {
      "text/plain": [
       "<sqlalchemy.engine.result.ResultProxy at 0x7f99e9c37c90>"
      ]
     },
     "execution_count": 9,
     "metadata": {},
     "output_type": "execute_result"
    }
   ],
   "source": [
    "sql.execute(f\"drop table if exists {table_name} ;\", engine)"
   ]
  },
  {
   "cell_type": "markdown",
   "metadata": {},
   "source": [
    "### Confirm"
   ]
  },
  {
   "cell_type": "code",
   "execution_count": 10,
   "metadata": {
    "ExecuteTime": {
     "end_time": "2020-05-25T03:55:17.389445Z",
     "start_time": "2020-05-25T03:55:17.378352Z"
    }
   },
   "outputs": [
    {
     "data": {
      "text/html": [
       "<div>\n",
       "<style scoped>\n",
       "    .dataframe tbody tr th:only-of-type {\n",
       "        vertical-align: middle;\n",
       "    }\n",
       "\n",
       "    .dataframe tbody tr th {\n",
       "        vertical-align: top;\n",
       "    }\n",
       "\n",
       "    .dataframe thead th {\n",
       "        text-align: right;\n",
       "    }\n",
       "</style>\n",
       "<table border=\"1\" class=\"dataframe\">\n",
       "  <thead>\n",
       "    <tr style=\"text-align: right;\">\n",
       "      <th></th>\n",
       "      <th>Tables_in_demo</th>\n",
       "    </tr>\n",
       "  </thead>\n",
       "  <tbody>\n",
       "  </tbody>\n",
       "</table>\n",
       "</div>"
      ],
      "text/plain": [
       "Empty DataFrame\n",
       "Columns: [Tables_in_demo]\n",
       "Index: []"
      ]
     },
     "execution_count": 10,
     "metadata": {},
     "output_type": "execute_result"
    }
   ],
   "source": [
    "pd.read_sql_query(\"show tables;\", engine)"
   ]
  },
  {
   "cell_type": "markdown",
   "metadata": {},
   "source": [
    "### Now Read the Csv File Which Have Our Dummy Data"
   ]
  },
  {
   "cell_type": "code",
   "execution_count": 11,
   "metadata": {
    "ExecuteTime": {
     "end_time": "2020-05-25T03:55:17.402349Z",
     "start_time": "2020-05-25T03:55:17.391417Z"
    }
   },
   "outputs": [],
   "source": [
    "file = pd.read_csv(\"data.csv\")"
   ]
  },
  {
   "cell_type": "markdown",
   "metadata": {},
   "source": [
    "### See Some Sample Data"
   ]
  },
  {
   "cell_type": "code",
   "execution_count": 12,
   "metadata": {
    "ExecuteTime": {
     "end_time": "2020-05-25T03:55:17.421362Z",
     "start_time": "2020-05-25T03:55:17.404271Z"
    }
   },
   "outputs": [
    {
     "data": {
      "text/html": [
       "<div>\n",
       "<style scoped>\n",
       "    .dataframe tbody tr th:only-of-type {\n",
       "        vertical-align: middle;\n",
       "    }\n",
       "\n",
       "    .dataframe tbody tr th {\n",
       "        vertical-align: top;\n",
       "    }\n",
       "\n",
       "    .dataframe thead th {\n",
       "        text-align: right;\n",
       "    }\n",
       "</style>\n",
       "<table border=\"1\" class=\"dataframe\">\n",
       "  <thead>\n",
       "    <tr style=\"text-align: right;\">\n",
       "      <th></th>\n",
       "      <th>id</th>\n",
       "      <th>first_name</th>\n",
       "      <th>last_name</th>\n",
       "      <th>email</th>\n",
       "      <th>gender</th>\n",
       "      <th>ip_address</th>\n",
       "      <th>country</th>\n",
       "    </tr>\n",
       "  </thead>\n",
       "  <tbody>\n",
       "    <tr>\n",
       "      <th>0</th>\n",
       "      <td>1</td>\n",
       "      <td>Meryl</td>\n",
       "      <td>Borth</td>\n",
       "      <td>mborth0@ow.ly</td>\n",
       "      <td>Female</td>\n",
       "      <td>29.209.97.255</td>\n",
       "      <td>Armenia</td>\n",
       "    </tr>\n",
       "    <tr>\n",
       "      <th>1</th>\n",
       "      <td>2</td>\n",
       "      <td>Vivia</td>\n",
       "      <td>Trenholm</td>\n",
       "      <td>vtrenholm1@toplist.cz</td>\n",
       "      <td>Female</td>\n",
       "      <td>146.41.150.228</td>\n",
       "      <td>Serbia</td>\n",
       "    </tr>\n",
       "    <tr>\n",
       "      <th>2</th>\n",
       "      <td>3</td>\n",
       "      <td>Peyter</td>\n",
       "      <td>Christie</td>\n",
       "      <td>pchristie2@vkontakte.ru</td>\n",
       "      <td>Male</td>\n",
       "      <td>195.111.176.67</td>\n",
       "      <td>Bahamas</td>\n",
       "    </tr>\n",
       "    <tr>\n",
       "      <th>3</th>\n",
       "      <td>4</td>\n",
       "      <td>Dukie</td>\n",
       "      <td>Chagg</td>\n",
       "      <td>dchagg3@abc.net.au</td>\n",
       "      <td>Male</td>\n",
       "      <td>247.199.120.250</td>\n",
       "      <td>Indonesia</td>\n",
       "    </tr>\n",
       "    <tr>\n",
       "      <th>4</th>\n",
       "      <td>5</td>\n",
       "      <td>Sonnie</td>\n",
       "      <td>Benaine</td>\n",
       "      <td>sbenaine4@vkontakte.ru</td>\n",
       "      <td>Male</td>\n",
       "      <td>234.93.138.167</td>\n",
       "      <td>Brazil</td>\n",
       "    </tr>\n",
       "  </tbody>\n",
       "</table>\n",
       "</div>"
      ],
      "text/plain": [
       "   id first_name last_name                    email  gender       ip_address  \\\n",
       "0   1      Meryl     Borth            mborth0@ow.ly  Female    29.209.97.255   \n",
       "1   2      Vivia  Trenholm    vtrenholm1@toplist.cz  Female   146.41.150.228   \n",
       "2   3     Peyter  Christie  pchristie2@vkontakte.ru    Male   195.111.176.67   \n",
       "3   4      Dukie     Chagg       dchagg3@abc.net.au    Male  247.199.120.250   \n",
       "4   5     Sonnie   Benaine   sbenaine4@vkontakte.ru    Male   234.93.138.167   \n",
       "\n",
       "     country  \n",
       "0    Armenia  \n",
       "1     Serbia  \n",
       "2    Bahamas  \n",
       "3  Indonesia  \n",
       "4     Brazil  "
      ]
     },
     "execution_count": 12,
     "metadata": {},
     "output_type": "execute_result"
    }
   ],
   "source": [
    "file.head()"
   ]
  },
  {
   "cell_type": "markdown",
   "metadata": {},
   "source": [
    "### Now Write this to Database"
   ]
  },
  {
   "cell_type": "code",
   "execution_count": 13,
   "metadata": {
    "ExecuteTime": {
     "end_time": "2020-05-25T03:55:17.544141Z",
     "start_time": "2020-05-25T03:55:17.422950Z"
    }
   },
   "outputs": [],
   "source": [
    "file.to_sql(table_name, engine) #Magic All Done"
   ]
  },
  {
   "cell_type": "markdown",
   "metadata": {},
   "source": [
    "# Now Fetch From Database"
   ]
  },
  {
   "cell_type": "code",
   "execution_count": 14,
   "metadata": {
    "ExecuteTime": {
     "end_time": "2020-05-25T03:55:41.853328Z",
     "start_time": "2020-05-25T03:55:41.800096Z"
    }
   },
   "outputs": [],
   "source": [
    "data = pd.read_sql_table(table_name, engine)"
   ]
  },
  {
   "cell_type": "code",
   "execution_count": 15,
   "metadata": {
    "ExecuteTime": {
     "end_time": "2020-05-25T03:55:44.945241Z",
     "start_time": "2020-05-25T03:55:44.909622Z"
    }
   },
   "outputs": [
    {
     "data": {
      "text/html": [
       "<div>\n",
       "<style scoped>\n",
       "    .dataframe tbody tr th:only-of-type {\n",
       "        vertical-align: middle;\n",
       "    }\n",
       "\n",
       "    .dataframe tbody tr th {\n",
       "        vertical-align: top;\n",
       "    }\n",
       "\n",
       "    .dataframe thead th {\n",
       "        text-align: right;\n",
       "    }\n",
       "</style>\n",
       "<table border=\"1\" class=\"dataframe\">\n",
       "  <thead>\n",
       "    <tr style=\"text-align: right;\">\n",
       "      <th></th>\n",
       "      <th>index</th>\n",
       "      <th>id</th>\n",
       "      <th>first_name</th>\n",
       "      <th>last_name</th>\n",
       "      <th>email</th>\n",
       "      <th>gender</th>\n",
       "      <th>ip_address</th>\n",
       "      <th>country</th>\n",
       "    </tr>\n",
       "  </thead>\n",
       "  <tbody>\n",
       "    <tr>\n",
       "      <th>0</th>\n",
       "      <td>0</td>\n",
       "      <td>1</td>\n",
       "      <td>Meryl</td>\n",
       "      <td>Borth</td>\n",
       "      <td>mborth0@ow.ly</td>\n",
       "      <td>Female</td>\n",
       "      <td>29.209.97.255</td>\n",
       "      <td>Armenia</td>\n",
       "    </tr>\n",
       "    <tr>\n",
       "      <th>1</th>\n",
       "      <td>1</td>\n",
       "      <td>2</td>\n",
       "      <td>Vivia</td>\n",
       "      <td>Trenholm</td>\n",
       "      <td>vtrenholm1@toplist.cz</td>\n",
       "      <td>Female</td>\n",
       "      <td>146.41.150.228</td>\n",
       "      <td>Serbia</td>\n",
       "    </tr>\n",
       "    <tr>\n",
       "      <th>2</th>\n",
       "      <td>2</td>\n",
       "      <td>3</td>\n",
       "      <td>Peyter</td>\n",
       "      <td>Christie</td>\n",
       "      <td>pchristie2@vkontakte.ru</td>\n",
       "      <td>Male</td>\n",
       "      <td>195.111.176.67</td>\n",
       "      <td>Bahamas</td>\n",
       "    </tr>\n",
       "    <tr>\n",
       "      <th>3</th>\n",
       "      <td>3</td>\n",
       "      <td>4</td>\n",
       "      <td>Dukie</td>\n",
       "      <td>Chagg</td>\n",
       "      <td>dchagg3@abc.net.au</td>\n",
       "      <td>Male</td>\n",
       "      <td>247.199.120.250</td>\n",
       "      <td>Indonesia</td>\n",
       "    </tr>\n",
       "    <tr>\n",
       "      <th>4</th>\n",
       "      <td>4</td>\n",
       "      <td>5</td>\n",
       "      <td>Sonnie</td>\n",
       "      <td>Benaine</td>\n",
       "      <td>sbenaine4@vkontakte.ru</td>\n",
       "      <td>Male</td>\n",
       "      <td>234.93.138.167</td>\n",
       "      <td>Brazil</td>\n",
       "    </tr>\n",
       "  </tbody>\n",
       "</table>\n",
       "</div>"
      ],
      "text/plain": [
       "   index  id first_name last_name                    email  gender  \\\n",
       "0      0   1      Meryl     Borth            mborth0@ow.ly  Female   \n",
       "1      1   2      Vivia  Trenholm    vtrenholm1@toplist.cz  Female   \n",
       "2      2   3     Peyter  Christie  pchristie2@vkontakte.ru    Male   \n",
       "3      3   4      Dukie     Chagg       dchagg3@abc.net.au    Male   \n",
       "4      4   5     Sonnie   Benaine   sbenaine4@vkontakte.ru    Male   \n",
       "\n",
       "        ip_address    country  \n",
       "0    29.209.97.255    Armenia  \n",
       "1   146.41.150.228     Serbia  \n",
       "2   195.111.176.67    Bahamas  \n",
       "3  247.199.120.250  Indonesia  \n",
       "4   234.93.138.167     Brazil  "
      ]
     },
     "execution_count": 15,
     "metadata": {},
     "output_type": "execute_result"
    }
   ],
   "source": [
    "data.head()"
   ]
  },
  {
   "cell_type": "code",
   "execution_count": null,
   "metadata": {},
   "outputs": [],
   "source": []
  }
 ],
 "metadata": {
  "kernelspec": {
   "display_name": "Python 3",
   "language": "python",
   "name": "python3"
  },
  "language_info": {
   "codemirror_mode": {
    "name": "ipython",
    "version": 3
   },
   "file_extension": ".py",
   "mimetype": "text/x-python",
   "name": "python",
   "nbconvert_exporter": "python",
   "pygments_lexer": "ipython3",
   "version": "3.7.7"
  }
 },
 "nbformat": 4,
 "nbformat_minor": 4
}
